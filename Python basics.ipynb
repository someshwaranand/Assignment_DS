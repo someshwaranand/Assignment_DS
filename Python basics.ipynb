{
 "cells": [
  {
   "cell_type": "markdown",
   "id": "ba01048a-3f97-46f0-9140-02e7d5c3c7c5",
   "metadata": {},
   "source": [
    "<h1>Python basics</h1>"
   ]
  },
  {
   "cell_type": "markdown",
   "id": "161c4275-91ec-40f3-9f12-86a2514a7bd8",
   "metadata": {},
   "source": [
    "<h2>Basics Questions</h2>"
   ]
  },
  {
   "cell_type": "markdown",
   "id": "5b1025be",
   "metadata": {},
   "source": [
    "1. What is Python, and why is it popular?\n",
    "    - Python is a high-level, general-purpose programming language. Python is popular because it is easy to learn, versatile, large and active community, large number of libraries and frameworks, efficient, reliable, and fast.\n",
    "<hr>\n",
    "\n",
    "2. What is an interpreter in Python?\n",
    "   - An interpreter in python is a computer program that converts each high-level program statement into machine code. \n",
    "<hr>\n",
    "\n",
    "3. What are pre-defined keywords in Python?\n",
    "    - Pre-defined keywords are predefined words that hold a special meaning and have specific purpose in python.\n",
    "<hr>\n",
    "\n",
    "4. Can keywords be used as variable names?\n",
    "    - No, keywords cannot be used as variable names.\n",
    "<hr>\n",
    "\n",
    "5. What is mutability in Python?\n",
    "    - In Python, mutability refers to the ability of an object to change after it has been created.\n",
    "<hr>\n",
    "\n",
    "6. Why are lists mutable, but tuples are immutable?\n",
    "    - Lists are mutable because they are designed to be flexible and allow for efficient modifications. Tuples are immutable because they are designed to be efficient and secure for data that should not be changed after creation\n",
    "<hr>\n",
    "\n",
    "7. What is the difference between “==” and “is” operators in Python?\n",
    "    - == (Equality operator) compares the values of two objects and returns True if the values of the objects are equal, otherwise it returns False. is(Identity operator) compares the memory addresses of two objects and returns True if both variables refer to the same object in memory, otherwise it returns False.\n",
    "<hr>\n",
    "\n",
    "8. What are logical operators in Python?\n",
    "    - Logical operators are used to combine and evaluate multiple conditions, resulting in a single Boolean value(True or False). Three main logical operators are 'and', 'or', 'not'.\n",
    "<hr>\n",
    "\n",
    "9. What is type casting in Python?\n",
    "    - Type casting, also known as type conversion, is the process of changing the data type of a variable from one to another.\n",
    "<hr>\n",
    "\n",
    "10. What is the difference between implicit and explicit type casting?\n",
    "    - Implicit Type Casting(Automatic Type Conversion): Python automatically converts one data type to another without explicit instruction from the programmer. Typically it occurs when performing operations that involve different data types. Python tries to find a compatible type for the operation to proceed. Explicit Type Casting(Manual Type Conversion): The programmer explicitly instructs Python to convert a value from one data type to another using built-in functions. \n",
    "<hr>\n",
    "\n",
    "11. What is the purpose of conditional statements in Python?\n",
    "    - Conditional statements in Python are used for controlling the flow of your program's execution. They allow us to make decisions within our code, executing specific blocks of code only when certain conditions are met.\n",
    "<hr>\n",
    "\n",
    "12. How does the elif statement work?\n",
    "    - The elif statement in Python is used to check for multiple conditions sequentially. It's short for \"else if.\"\n",
    "<hr>\n",
    "\n",
    "13. What is the difference between for and while loops?\n",
    "    - for Loop is primarily used to iterate over a sequence of elements (like lists, tuples, strings, etc.) or a range of numbers. while Loop is used to repeatedly execute a block of code as long as a specific condition remains True.\n",
    "<hr>\n",
    "\n",
    "\n",
    "14. Describe a scenario where a while loop is more suitable than a for loop.\n",
    "\n",
    "    - I am writing a game where a player controls a character that needs to collect a certain number of coins to win. I don't know beforehand how many moves the player will make or how many coins they'll encounter.\n",
    "\n",
    "    Why a while loop is more suitable here:\n",
    "    Unknown Number of Iterations: The game's duration is unpredictable. The player might collect all coins quickly, or it might take many moves. A while loop allows the game to continue as long as the player hasn't collected the required number of coins.\n",
    "\n",
    "    Dynamic Condition: The loop's termination depends on the player's actions and the game's state (number of coins collected). This dynamic condition is well-suited for a while loop.\n",
    "\n"
   ]
  },
  {
   "cell_type": "markdown",
   "id": "9b9ec0e1-3057-4c41-afc0-ad79d8a628a6",
   "metadata": {},
   "source": [
    "<br><br>"
   ]
  },
  {
   "cell_type": "markdown",
   "id": "0ffc0824-1e88-457c-bf59-9372d17972c8",
   "metadata": {},
   "source": [
    "<h2>Practical Questions</h2>"
   ]
  },
  {
   "cell_type": "markdown",
   "id": "1c48d081-dc80-4282-afcb-423558f8f6e8",
   "metadata": {},
   "source": [
    "1. Write a Python program to print \"Hello, World!\".\n",
    "2. Write a Python program that displays your name and age.\n",
    "3. Write code to print all the pre-defined keywords in Python using the keyword library.\n",
    "4. Write a program that checks if a given word is a Python keyword.\n",
    "5. Create a list and tuple in Python, and demonstrate how attempting to change an element works differently\n",
    "for each.\n",
    "\n",
    "6. Write a function to demonstrate the behavior of mutable and immutable arguments.\n",
    "7. Write a function to demonstrate the behavior of mutable and immutable arguments.\n",
    "8. Write a program to demonstrate the use of logical operators.\n",
    "9. Write a Python program to convert user input from string to integer, float, and boolean types.\n",
    "10. Write code to demonstrate type casting with list elements.\n",
    "11. Write a program that checks if a number is positive, negative, or zero.\n",
    "12. Write a for loop to print numbers from 1 to 10.\n",
    "13. Write a Python program to find the sum of all even numbers between 1 and 50.\n",
    "14. Write a program to reverse a string using a while loop.\n",
    "15. Write a Python program to calculate the factorial of a number provided by the user using a while loop."
   ]
  },
  {
   "cell_type": "code",
   "execution_count": 48,
   "id": "a553a725-d222-4c68-9489-a7c46cdd1fd8",
   "metadata": {},
   "outputs": [
    {
     "name": "stdout",
     "output_type": "stream",
     "text": [
      "Hello, World!\n"
     ]
    }
   ],
   "source": [
    "# 1. Write a Python program to print \"Hello, World!\".\n",
    "\n",
    "print('Hello, World!')"
   ]
  },
  {
   "cell_type": "code",
   "execution_count": 49,
   "id": "d159f3f2-d449-49b3-95a8-44f159856ec8",
   "metadata": {},
   "outputs": [
    {
     "name": "stdout",
     "output_type": "stream",
     "text": [
      "Please enter your name: Someshwar\n",
      "Please enter your age: 26\n",
      "Your name is Someshwar you are 26 years old.\n"
     ]
    }
   ],
   "source": [
    "# 2. Write a Python program that displays your name and age.\n",
    "\n",
    "name = input(\"Please enter your name: \")\n",
    "age = input(\"Please enter your age: \")\n",
    "age = int(age)\n",
    "\n",
    "print(\"Your name is\",name, \"you are\", age, \"years old.\")"
   ]
  },
  {
   "cell_type": "code",
   "execution_count": 50,
   "id": "56ee2dd3-57d1-4849-9708-efb8d7ccc99c",
   "metadata": {},
   "outputs": [
    {
     "name": "stdout",
     "output_type": "stream",
     "text": [
      "\n",
      "Here is a list of the Python keywords.  Enter any keyword to get more help.\n",
      "\n",
      "False               class               from                or\n",
      "None                continue            global              pass\n",
      "True                def                 if                  raise\n",
      "and                 del                 import              return\n",
      "as                  elif                in                  try\n",
      "assert              else                is                  while\n",
      "async               except              lambda              with\n",
      "await               finally             nonlocal            yield\n",
      "break               for                 not                 \n",
      "\n"
     ]
    }
   ],
   "source": [
    "# 3. Write code to print all the pre-defined keywords in Python using the keyword library.\n",
    "\n",
    "help('keywords')"
   ]
  },
  {
   "cell_type": "code",
   "execution_count": 12,
   "id": "4017f65c-18be-4d30-873d-add028743edc",
   "metadata": {},
   "outputs": [
    {
     "name": "stdout",
     "output_type": "stream",
     "text": [
      "Please enter any word False\n",
      "False is a keyword in Python\n"
     ]
    }
   ],
   "source": [
    "# 4. Write a program that checks if a given word is a Python keyword.\n",
    "\n",
    "import keyword\n",
    "\n",
    "keyword_list = keyword.kwlist\n",
    "\n",
    "word = input(\"Please enter any word \")\n",
    "\n",
    "if word in keyword_list :\n",
    "    print(word, 'is a keyword in Python')\n",
    "else:\n",
    "    print(word, 'is not a keyword in Python')"
   ]
  },
  {
   "cell_type": "code",
   "execution_count": 19,
   "id": "63f41956-7530-4ed8-950f-c8ddc47fb575",
   "metadata": {},
   "outputs": [
    {
     "name": "stdout",
     "output_type": "stream",
     "text": [
      "[1, 2, 3, 4.3, (3+5j), True, 'Mohan']\n"
     ]
    },
    {
     "ename": "TypeError",
     "evalue": "'tuple' object does not support item assignment",
     "output_type": "error",
     "traceback": [
      "\u001b[0;31m---------------------------------------------------------------------------\u001b[0m",
      "\u001b[0;31mTypeError\u001b[0m                                 Traceback (most recent call last)",
      "Cell \u001b[0;32mIn[19], line 10\u001b[0m\n\u001b[1;32m      5\u001b[0m \u001b[38;5;28mprint\u001b[39m(list_cont)  \u001b[38;5;66;03m# lists are mutable\u001b[39;00m\n\u001b[1;32m      9\u001b[0m my_tuple \u001b[38;5;241m=\u001b[39m (\u001b[38;5;124m'\u001b[39m\u001b[38;5;124ml\u001b[39m\u001b[38;5;124m'\u001b[39m, \u001b[38;5;124m'\u001b[39m\u001b[38;5;124mu\u001b[39m\u001b[38;5;124m'\u001b[39m, \u001b[38;5;124m'\u001b[39m\u001b[38;5;124mp\u001b[39m\u001b[38;5;124m'\u001b[39m, \u001b[38;5;124m'\u001b[39m\u001b[38;5;124mi\u001b[39m\u001b[38;5;124m'\u001b[39m, \u001b[38;5;124m'\u001b[39m\u001b[38;5;124mn\u001b[39m\u001b[38;5;124m'\u001b[39m)\n\u001b[0;32m---> 10\u001b[0m \u001b[43mmy_tuple\u001b[49m\u001b[43m[\u001b[49m\u001b[38;5;241;43m2\u001b[39;49m\u001b[43m]\u001b[49m \u001b[38;5;241m=\u001b[39m \u001b[38;5;124m'\u001b[39m\u001b[38;5;124mnew\u001b[39m\u001b[38;5;124m'\u001b[39m  \u001b[38;5;66;03m# this line is generating an error as we are tring to change tuple\u001b[39;00m\n",
      "\u001b[0;31mTypeError\u001b[0m: 'tuple' object does not support item assignment"
     ]
    }
   ],
   "source": [
    "# 5. Create a list and tuple in Python, and demonstrate how attempting to change an element works differently for each.\n",
    "list_cont = [1, 2, 3, 4.3, 3+5j, True, \"Subham\"]  # a list\n",
    "\n",
    "list_cont[6] = \"Mohan\"\n",
    "print(list_cont)  # lists are mutable\n",
    "\n",
    "\n",
    "\n",
    "my_tuple = ('l', 'u', 'p', 'i', 'n')\n",
    "my_tuple[2] = 'new'  # this line is generating an error as we are tring to change tuple"
   ]
  },
  {
   "cell_type": "code",
   "execution_count": null,
   "id": "e67ea01c-6e82-4b23-9627-4f33c1dcbbd8",
   "metadata": {},
   "outputs": [],
   "source": [
    "# Write a function to demonstrate the behavior of mutable and immutable arguments.\n",
    "\n"
   ]
  },
  {
   "cell_type": "code",
   "execution_count": null,
   "id": "aeaa6a8c-c19f-40af-87ff-3442cb8f6341",
   "metadata": {},
   "outputs": [],
   "source": [
    "# Write a function to demonstrate the behavior of mutable and immutable arguments.\n",
    "\n"
   ]
  },
  {
   "cell_type": "code",
   "execution_count": 47,
   "id": "dad11a26",
   "metadata": {},
   "outputs": [
    {
     "name": "stdout",
     "output_type": "stream",
     "text": [
      "a and b: False\n",
      "a or b: True\n",
      "not a: False\n",
      "not b: True\n",
      "(a and not b) or b: True\n"
     ]
    }
   ],
   "source": [
    "# 8. Write a program to demonstrate the use of logical operators.\n",
    "\n",
    "a = True\n",
    "b = False\n",
    "\n",
    "# AND operator (both conditions must be True)\n",
    "print(\"a and b:\", a and b)  # Output: False\n",
    "\n",
    "# OR operator (at least one condition must be True)\n",
    "print(\"a or b:\", a or b)   # Output: True\n",
    "\n",
    "# NOT operator (reverses the boolean value)\n",
    "print(\"not a:\", not a)     # Output: False\n",
    "print(\"not b:\", not b)     # Output: True\n",
    "\n",
    "# Combining operators\n",
    "print(\"(a and not b) or b:\", (a and not b) or b)  # Output: True"
   ]
  },
  {
   "cell_type": "code",
   "execution_count": null,
   "id": "52048144",
   "metadata": {},
   "outputs": [],
   "source": [
    "# Write a Python program to convert user input from string to integer, float, and boolean types.\n",
    "\n"
   ]
  },
  {
   "cell_type": "code",
   "execution_count": null,
   "id": "d40c459b",
   "metadata": {},
   "outputs": [],
   "source": [
    "# Write code to demonstrate type casting with list elements.\n",
    "\n"
   ]
  },
  {
   "cell_type": "code",
   "execution_count": 28,
   "id": "a36febf3",
   "metadata": {},
   "outputs": [
    {
     "name": "stdout",
     "output_type": "stream",
     "text": [
      "Enter a number to check weather it is positive, negative, or zero: 9.6\n",
      "Positive\n"
     ]
    }
   ],
   "source": [
    "# 11. Write a program that checks if a number is positive, negative, or zero.\n",
    "\n",
    "num = input(\"Enter a number to check weather it is positive, negative, or zero: \")\n",
    "num = float(num)\n",
    "\n",
    "if num > 0:\n",
    "    print (\"Positive\")\n",
    "elif num < 0:\n",
    "    print(\"Negative\")\n",
    "else:\n",
    "    print(\"Zero\")"
   ]
  },
  {
   "cell_type": "code",
   "execution_count": 30,
   "id": "1c1e6d22",
   "metadata": {},
   "outputs": [
    {
     "name": "stdout",
     "output_type": "stream",
     "text": [
      "1\n",
      "2\n",
      "3\n",
      "4\n",
      "5\n",
      "6\n",
      "7\n",
      "8\n",
      "9\n",
      "10\n"
     ]
    }
   ],
   "source": [
    "# 12. Write a for loop to print numbers from 1 to 10.\n",
    "\n",
    "for i in range(1, 11):\n",
    "    print(i)"
   ]
  },
  {
   "cell_type": "code",
   "execution_count": 36,
   "id": "9dfe2649",
   "metadata": {},
   "outputs": [
    {
     "name": "stdout",
     "output_type": "stream",
     "text": [
      "650\n"
     ]
    }
   ],
   "source": [
    "# 13. Write a Python program to find the sum of all even numbers between 1 and 50.\n",
    "\n",
    "value = 0\n",
    "for num in range(2, 51, 2):\n",
    "    value = value + num\n",
    "    \n",
    "print(value)"
   ]
  },
  {
   "cell_type": "code",
   "execution_count": 37,
   "id": "8a0ecce4-8a39-41a2-ab08-f841d3b1f7cd",
   "metadata": {},
   "outputs": [
    {
     "name": "stdout",
     "output_type": "stream",
     "text": [
      "Enter a string to reverse it: hello\n",
      "olleh\n"
     ]
    }
   ],
   "source": [
    "# 14. Write a program to reverse a string using a while loop.\n",
    "\n",
    "string_rev = input(\"Enter a string to reverse it: \")\n",
    "reversed_str = \"\"\n",
    "index = len(string_rev) - 1\n",
    "\n",
    "while index >= 0:\n",
    "    reversed_str = reversed_str + string_rev[index]\n",
    "    index -= 1\n",
    "\n",
    "print(reversed_str)\n",
    "\n"
   ]
  },
  {
   "cell_type": "code",
   "execution_count": 46,
   "id": "f044de7f",
   "metadata": {},
   "outputs": [
    {
     "name": "stdout",
     "output_type": "stream",
     "text": [
      "Enter a positive integer to calulate its factorial: 7\n",
      "The factorial of 7 is 5040\n"
     ]
    }
   ],
   "source": [
    "# 15. Write a Python program to calculate the factorial of a number provided by the user using a while loop\n",
    "\n",
    "\n",
    "fact = input(\"Enter a positive integer to calulate its factorial: \")\n",
    "factorial = int(fact)\n",
    "\n",
    "if factorial < 0:\n",
    "    print(\"Factorial is not defined for negative numbers.\")\n",
    "\n",
    "result = 1\n",
    "while factorial > 0:\n",
    "    result = result * factorial\n",
    "    factorial = factorial - 1\n",
    "\n",
    "print(\"The factorial of\", fact, \"is\", result)"
   ]
  },
  {
   "cell_type": "code",
   "execution_count": null,
   "id": "7446e97c",
   "metadata": {},
   "outputs": [],
   "source": []
  },
  {
   "cell_type": "code",
   "execution_count": null,
   "id": "df943178",
   "metadata": {},
   "outputs": [],
   "source": []
  },
  {
   "cell_type": "code",
   "execution_count": null,
   "id": "e17e9bcf",
   "metadata": {},
   "outputs": [],
   "source": []
  },
  {
   "cell_type": "code",
   "execution_count": null,
   "id": "287ad145",
   "metadata": {},
   "outputs": [],
   "source": []
  },
  {
   "cell_type": "code",
   "execution_count": null,
   "id": "d3a89fcd",
   "metadata": {},
   "outputs": [],
   "source": []
  }
 ],
 "metadata": {
  "kernelspec": {
   "display_name": "Python 3 (ipykernel)",
   "language": "python",
   "name": "python3"
  },
  "language_info": {
   "codemirror_mode": {
    "name": "ipython",
    "version": 3
   },
   "file_extension": ".py",
   "mimetype": "text/x-python",
   "name": "python",
   "nbconvert_exporter": "python",
   "pygments_lexer": "ipython3",
   "version": "3.12.3"
  }
 },
 "nbformat": 4,
 "nbformat_minor": 5
}
