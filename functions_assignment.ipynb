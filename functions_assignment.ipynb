{
 "cells": [
  {
   "cell_type": "markdown",
   "id": "de0788ff",
   "metadata": {},
   "source": [
    "<h1>Function</h1>"
   ]
  },
  {
   "cell_type": "markdown",
   "id": "09d79c07",
   "metadata": {},
   "source": [
    "<h2>Theory Questions:<h2>"
   ]
  },
  {
   "cell_type": "markdown",
   "id": "949f5dc0",
   "metadata": {},
   "source": [
    "<h3>1. What is the difference between a function and a method in Python?</h3>"
   ]
  },
  {
   "cell_type": "markdown",
   "id": "84590373",
   "metadata": {},
   "source": [
    "In Python, functions and methods are both blocks of code that perform specific tasks, but they differ in their association with objects:\n",
    "    <br><br>\n",
    "    Functions:<br>\n",
    "    Functions are standalone entities that can be called from anywhere in your code.\n",
    "No object association: They don't belong to any specific object or class.\n",
    "You call a function using its name followed by parentheses and any necessary arguments."
   ]
  },
  {
   "cell_type": "code",
   "execution_count": 1,
   "id": "f69b36c8",
   "metadata": {},
   "outputs": [
    {
     "name": "stdout",
     "output_type": "stream",
     "text": [
      "Hello, Alice!\n"
     ]
    }
   ],
   "source": [
    "def greet(name):\n",
    "    print(\"Hello,\", name + \"!\")\n",
    "\n",
    "greet(\"Alice\")  # Output: Hello, Alice!"
   ]
  },
  {
   "cell_type": "markdown",
   "id": "85d50083",
   "metadata": {},
   "source": [
    "Methods:\n",
    "<br>\n",
    "Methods are functions that are defined within a class.<br>\n",
    "You call a method using dot notation on an object of the class.<br>\n",
    "Methods have implicit access to the object's data (attributes) through the self parameter."
   ]
  },
  {
   "cell_type": "code",
   "execution_count": 2,
   "id": "3cfdbd25",
   "metadata": {},
   "outputs": [
    {
     "name": "stdout",
     "output_type": "stream",
     "text": [
      "[1, 2, 3, 4]\n"
     ]
    }
   ],
   "source": [
    "a = [1, 2, 3]\n",
    "\n",
    "# Add 4 to the end of the list\n",
    "a.append(4)\n",
    "print(a)"
   ]
  },
  {
   "cell_type": "markdown",
   "id": "cedd5414",
   "metadata": {},
   "source": [
    "<h3>2. Explain the concept of function arguments and parameters in Python.</h3>"
   ]
  },
  {
   "cell_type": "markdown",
   "id": "95b244c2",
   "metadata": {},
   "source": [
    "Parameters are the variables that are defined within the parentheses of a function's definition. They act as placeholders for the values that will be passed to the function when it's called\n",
    "    "
   ]
  },
  {
   "cell_type": "code",
   "execution_count": 3,
   "id": "a2180035",
   "metadata": {},
   "outputs": [],
   "source": [
    "def greet(name):  # 'name' is a parameter\n",
    "    print(\"Hello,\", name + \"!\")"
   ]
  },
  {
   "cell_type": "markdown",
   "id": "c4a5aa99",
   "metadata": {},
   "source": [
    " Arguments are the actual values that are passed to a function when it's called. These values are then assigned to the corresponding parameters within the function's definition."
   ]
  },
  {
   "cell_type": "code",
   "execution_count": 4,
   "id": "6b2412b1",
   "metadata": {},
   "outputs": [
    {
     "name": "stdout",
     "output_type": "stream",
     "text": [
      "Hello, Alice!\n"
     ]
    }
   ],
   "source": [
    "greet(\"Alice\")  # \"Alice\" is an argument"
   ]
  },
  {
   "cell_type": "markdown",
   "id": "7c8a78c6",
   "metadata": {},
   "source": [
    "<h3>3. What are the different ways to define and call a function in Python?</h3>"
   ]
  },
  {
   "cell_type": "markdown",
   "id": "da75e62b",
   "metadata": {},
   "source": [
    "Defining a Function(basic syntax):"
   ]
  },
  {
   "cell_type": "code",
   "execution_count": null,
   "id": "2566eb38",
   "metadata": {},
   "outputs": [],
   "source": [
    "def function_name(parameter1, parameter2, ...):\n",
    "    \"\"\"Docstring: Briefly explain what the function does.\"\"\"\n",
    "    # Function body - code to be executed\n",
    "    return value  # Optional: return a value"
   ]
  },
  {
   "cell_type": "code",
   "execution_count": 5,
   "id": "275c83aa",
   "metadata": {},
   "outputs": [],
   "source": [
    "def greet(name):\n",
    "    \"\"\"Prints a greeting message.\"\"\"\n",
    "    print(\"Hello,\", name + \"!\")"
   ]
  },
  {
   "cell_type": "markdown",
   "id": "1223cada",
   "metadata": {},
   "source": [
    "Calling a Function(basic syntax)"
   ]
  },
  {
   "cell_type": "code",
   "execution_count": null,
   "id": "d63b8845",
   "metadata": {},
   "outputs": [],
   "source": [
    "function_name(argument1, argument2, ...)"
   ]
  },
  {
   "cell_type": "code",
   "execution_count": 6,
   "id": "21f64edf",
   "metadata": {},
   "outputs": [
    {
     "name": "stdout",
     "output_type": "stream",
     "text": [
      "Hello, Alice!\n"
     ]
    }
   ],
   "source": [
    "greet(\"Alice\")  # Calls the greet function with \"Alice\" as the argument"
   ]
  },
  {
   "cell_type": "markdown",
   "id": "706bd3fc",
   "metadata": {},
   "source": [
    "<h3>4. What is the purpose of the `return` statement in a Python function?</h3>"
   ]
  },
  {
   "cell_type": "markdown",
   "id": "973cf0a3",
   "metadata": {},
   "source": [
    "The return statement in a Python function serves the following purposes:<br>\n",
    "Terminating the function's execution<br>\n",
    "Providing an output value"
   ]
  },
  {
   "cell_type": "code",
   "execution_count": 17,
   "id": "e8734a83",
   "metadata": {},
   "outputs": [
    {
     "name": "stdout",
     "output_type": "stream",
     "text": [
      "8\n"
     ]
    }
   ],
   "source": [
    "def add_numbers(a, b):\n",
    "  result = a + b\n",
    "  return result \n",
    "\n",
    "sum = add_numbers(5, 3) \n",
    "print(sum)  # Output: 8"
   ]
  },
  {
   "cell_type": "markdown",
   "id": "c2583e3e",
   "metadata": {},
   "source": [
    "<h3>6. Explain the concept of generators in Python and how they are defined.</h3>"
   ]
  },
  {
   "cell_type": "markdown",
   "id": "c5bcf204",
   "metadata": {},
   "source": [
    "Generators are a special type of function in Python that return an object that can be iterated over.<br>\n",
    "Unlike regular functions that return a single value and then terminate, generators can yield a series of values over time.<br>\n",
    "This \"lazy\" evaluation makes generators memory-efficient, especially when dealing with large datasets."
   ]
  },
  {
   "cell_type": "code",
   "execution_count": 18,
   "id": "434611e4",
   "metadata": {},
   "outputs": [],
   "source": [
    "def my_generator():\n",
    "  yield 1\n",
    "  yield 2\n",
    "  yield 3"
   ]
  },
  {
   "cell_type": "markdown",
   "id": "1c001cf6",
   "metadata": {},
   "source": [
    "<h3>8. What is a lambda function in Python and when is it typically used?</h3>"
   ]
  },
  {
   "cell_type": "markdown",
   "id": "fc346d17",
   "metadata": {},
   "source": [
    "In Python, a lambda function is a small, anonymous function defined using the lambda keyword.\n",
    "It's a concise way to create a function without explicitly giving it a name."
   ]
  },
  {
   "cell_type": "code",
   "execution_count": 19,
   "id": "1846b2ac",
   "metadata": {},
   "outputs": [
    {
     "name": "stdout",
     "output_type": "stream",
     "text": [
      "25\n"
     ]
    }
   ],
   "source": [
    "square = lambda x: x * x \n",
    "result = square(5) \n",
    "print(result)  # Output: 25"
   ]
  },
  {
   "cell_type": "markdown",
   "id": "ef17c267",
   "metadata": {},
   "source": [
    "<h3>9. Explain the purpose and usage of the `map()` function in Python</h3>"
   ]
  },
  {
   "cell_type": "markdown",
   "id": "c2852e83",
   "metadata": {},
   "source": [
    "The map() function in Python is a powerful tool for applying a given function to each item in an iterable (like a list, tuple, or set) and creating a new iterable with the results."
   ]
  },
  {
   "cell_type": "code",
   "execution_count": 20,
   "id": "d7d12db8",
   "metadata": {},
   "outputs": [
    {
     "name": "stdout",
     "output_type": "stream",
     "text": [
      "[1, 4, 9, 16, 25]\n"
     ]
    }
   ],
   "source": [
    "numbers = [1, 2, 3, 4, 5]\n",
    "\n",
    "# Define a function to square a number\n",
    "def square(x):\n",
    "    return x * x\n",
    "\n",
    "# Use map() to square each number in the list\n",
    "squared_numbers = map(square, numbers)\n",
    "\n",
    "# Convert the iterator to a list for printing\n",
    "squared_numbers_list = list(squared_numbers) \n",
    "print(squared_numbers_list)  # Output: [1, 4, 9, 16, 25]"
   ]
  },
  {
   "cell_type": "markdown",
   "id": "9fc1d098",
   "metadata": {},
   "source": [
    "<h3>10. What is the difference between `map()`, `reduce()`, and `filter()` functions in Python?</h3>"
   ]
  },
  {
   "cell_type": "markdown",
   "id": "19244565",
   "metadata": {},
   "source": [
    "map()<br>\n",
    "Applies a given function to each element of an iterable (like a list, tuple, or set) and returns a new iterable containing the results."
   ]
  },
  {
   "cell_type": "code",
   "execution_count": 21,
   "id": "86b24942",
   "metadata": {},
   "outputs": [
    {
     "name": "stdout",
     "output_type": "stream",
     "text": [
      "[1, 4, 9, 16, 25]\n"
     ]
    }
   ],
   "source": [
    "numbers = [1, 2, 3, 4, 5]\n",
    "squared_numbers = map(lambda x: x * x, numbers)  # Square each number\n",
    "print(list(squared_numbers))  # Output: [1, 4, 9, 16, 25]"
   ]
  },
  {
   "cell_type": "markdown",
   "id": "a07fe408",
   "metadata": {},
   "source": [
    "reduce()<br>\n",
    "Applies a given function cumulatively to the elements of an iterable, reducing them to a single value."
   ]
  },
  {
   "cell_type": "code",
   "execution_count": 22,
   "id": "85a19933",
   "metadata": {},
   "outputs": [
    {
     "name": "stdout",
     "output_type": "stream",
     "text": [
      "120\n"
     ]
    }
   ],
   "source": [
    "from functools import reduce  # reduce() is in the functools module in Python 3\n",
    "\n",
    "numbers = [1, 2, 3, 4, 5]\n",
    "product = reduce(lambda x, y: x * y, numbers)  # Calculate the product of all numbers\n",
    "print(product)  # Output: 120"
   ]
  },
  {
   "cell_type": "markdown",
   "id": "36d47275",
   "metadata": {},
   "source": [
    "filter()<br>\n",
    "Filters elements from an iterable based on a given condition or function. It returns a new iterable containing only the elements that satisfy the condition."
   ]
  },
  {
   "cell_type": "code",
   "execution_count": 23,
   "id": "80621eb6",
   "metadata": {},
   "outputs": [
    {
     "name": "stdout",
     "output_type": "stream",
     "text": [
      "[2, 4]\n"
     ]
    }
   ],
   "source": [
    "numbers = [1, 2, 3, 4, 5]\n",
    "even_numbers = filter(lambda x: x % 2 == 0, numbers)  # Filter even numbers\n",
    "print(list(even_numbers))  # Output: [2, 4]"
   ]
  },
  {
   "cell_type": "markdown",
   "id": "7852f35d",
   "metadata": {},
   "source": []
  },
  {
   "cell_type": "markdown",
   "id": "a0bf8ca9",
   "metadata": {},
   "source": []
  },
  {
   "cell_type": "markdown",
   "id": "eacde64e",
   "metadata": {},
   "source": []
  },
  {
   "cell_type": "markdown",
   "id": "11a04498",
   "metadata": {},
   "source": []
  },
  {
   "cell_type": "markdown",
   "id": "fb5aa102",
   "metadata": {},
   "source": [
    "<h2>Practical Questions:</h2>"
   ]
  },
  {
   "cell_type": "code",
   "execution_count": 7,
   "id": "df6d7a3c",
   "metadata": {},
   "outputs": [
    {
     "name": "stdout",
     "output_type": "stream",
     "text": [
      "Sum of even numbers: 30\n"
     ]
    }
   ],
   "source": [
    "#1. Write a Python function that takes a list of numbers as input and returns the sum of all even numbers in\n",
    "#   the list.\n",
    "\n",
    "def sum_even_numbers(numbers):\n",
    "  even_sum = 0\n",
    "  for num in numbers:\n",
    "    if num % 2 == 0:\n",
    "      even_sum += num\n",
    "  return even_sum\n",
    "\n",
    "\n",
    "my_list = [1, 2, 3, 4, 5, 6, 7, 8, 9, 10]\n",
    "result = sum_even_numbers(my_list)\n",
    "print(\"Sum of even numbers:\", result) "
   ]
  },
  {
   "cell_type": "code",
   "execution_count": 8,
   "id": "83bb19dc",
   "metadata": {},
   "outputs": [
    {
     "name": "stdout",
     "output_type": "stream",
     "text": [
      "Original string: hello\n",
      "Reversed string: olleh\n"
     ]
    }
   ],
   "source": [
    "#2. Create a Python function that accepts a string and returns the reverse of that string.\n",
    "\n",
    "def reverse_string(s):\n",
    "  return s[::-1]\n",
    "\n",
    "\n",
    "my_string = \"hello\"\n",
    "reversed_string = reverse_string(my_string)\n",
    "\n",
    "print(\"Original string:\", my_string)\n",
    "print(\"Reversed string:\", reversed_string)"
   ]
  },
  {
   "cell_type": "code",
   "execution_count": 9,
   "id": "28b52e0b",
   "metadata": {},
   "outputs": [
    {
     "name": "stdout",
     "output_type": "stream",
     "text": [
      "Original list: [1, 2, 3, 4, 5]\n",
      "Squared list: [1, 4, 9, 16, 25]\n"
     ]
    }
   ],
   "source": [
    "#3. Implement a Python function that takes a list of integers and returns a new list containing the squares of\n",
    "#   each number.\n",
    "\n",
    "\n",
    "def square_list(numbers):\n",
    "  squared_list = []\n",
    "  for num in numbers:\n",
    "    squared_list.append(num * num)\n",
    "  return squared_list\n",
    "\n",
    "\n",
    "my_list = [1, 2, 3, 4, 5]\n",
    "squared_list = square_list(my_list)\n",
    "\n",
    "print(\"Original list:\", my_list)\n",
    "print(\"Squared list:\", squared_list)  # Output: Squared list: [1, 4, 9, 16, 25]"
   ]
  },
  {
   "cell_type": "code",
   "execution_count": 11,
   "id": "60921c10",
   "metadata": {},
   "outputs": [
    {
     "name": "stdout",
     "output_type": "stream",
     "text": [
      "2\n",
      "3\n",
      "5\n",
      "7\n",
      "11\n",
      "13\n",
      "17\n",
      "19\n",
      "23\n",
      "29\n",
      "31\n",
      "37\n",
      "41\n",
      "43\n",
      "47\n",
      "53\n",
      "59\n",
      "61\n",
      "67\n",
      "71\n",
      "73\n",
      "79\n",
      "83\n",
      "89\n",
      "97\n",
      "101\n",
      "103\n",
      "107\n",
      "109\n",
      "113\n",
      "127\n",
      "131\n",
      "137\n",
      "139\n",
      "149\n",
      "151\n",
      "157\n",
      "163\n",
      "167\n",
      "173\n",
      "179\n",
      "181\n",
      "191\n",
      "193\n",
      "197\n",
      "199\n"
     ]
    }
   ],
   "source": [
    "#4. Write a Python function that checks if a given number is prime or not from 1 to 200.\n",
    "\n",
    "def is_prime(n):\n",
    "  if n <= 1:\n",
    "    return False\n",
    "  for i in range(2, int(n**0.5) + 1):\n",
    "    if n % i == 0:\n",
    "      return False\n",
    "  return True\n",
    "\n",
    "# Check prime numbers from 1 to 200\n",
    "for num in range(1, 201):\n",
    "  if is_prime(num):\n",
    "    print(num)"
   ]
  },
  {
   "cell_type": "code",
   "execution_count": null,
   "id": "63004953",
   "metadata": {},
   "outputs": [],
   "source": [
    "#5. Create an iterator class in Python that generates the Fibonacci sequence up to a specified number of\n",
    "#   terms.\n"
   ]
  },
  {
   "cell_type": "code",
   "execution_count": 12,
   "id": "9728aefa",
   "metadata": {},
   "outputs": [
    {
     "name": "stdout",
     "output_type": "stream",
     "text": [
      "1\n",
      "2\n",
      "4\n",
      "8\n",
      "16\n",
      "32\n"
     ]
    }
   ],
   "source": [
    "#6. Write a generator function in Python that yields the powers of 2 up to a given exponent.\n",
    "\n",
    "def powers_of_two(exponent):\n",
    "    result = 1\n",
    "    for _ in range(exponent + 1):\n",
    "        yield result\n",
    "        result *= 2\n",
    "\n",
    "# Example usage:\n",
    "for power in powers_of_two(5):\n",
    "    print(power)"
   ]
  },
  {
   "cell_type": "code",
   "execution_count": null,
   "id": "97e36663",
   "metadata": {},
   "outputs": [],
   "source": [
    "#7. Implement a generator function that reads a file line by line and yields each line as a string.\n",
    "\n",
    "def read_file_lines(filename):\n",
    "    with open(filename, 'r') as file:\n",
    "        for line in file:\n",
    "            yield line.strip()\n",
    "\n",
    "# Example usage:\n",
    "for line in read_file_lines('my_file.txt'):\n",
    "    print(line)"
   ]
  },
  {
   "cell_type": "code",
   "execution_count": 13,
   "id": "fac5e22e",
   "metadata": {},
   "outputs": [
    {
     "name": "stdout",
     "output_type": "stream",
     "text": [
      "[(4, 1), (3, 2), (1, 5), (2, 8)]\n"
     ]
    }
   ],
   "source": [
    "#8. Use a lambda function in Python to sort a list of tuples based on the second element of each tuple.\n",
    "\n",
    "data = [(1, 5), (3, 2), (2, 8), (4, 1)]\n",
    "\n",
    "sorted_data = sorted(data, key=lambda x: x[1]) \n",
    "\n",
    "print(sorted_data)  "
   ]
  },
  {
   "cell_type": "code",
   "execution_count": 14,
   "id": "092fe0fc",
   "metadata": {},
   "outputs": [
    {
     "name": "stdout",
     "output_type": "stream",
     "text": [
      "[32.0, 50.0, 68.0, 86.0]\n"
     ]
    }
   ],
   "source": [
    "#9. Write a Python program that uses `map()` to convert a list of temperatures from Celsius to Fahrenheit.\n",
    "\n",
    "def celsius_to_fahrenheit(celsius):\n",
    "  return (celsius * 9/5) + 32\n",
    "\n",
    "temperatures_celsius = [0, 10, 20, 30]\n",
    "\n",
    "temperatures_fahrenheit = list(map(celsius_to_fahrenheit, temperatures_celsius))\n",
    "\n",
    "print(temperatures_fahrenheit)  "
   ]
  },
  {
   "cell_type": "code",
   "execution_count": 15,
   "id": "d7f633af",
   "metadata": {},
   "outputs": [
    {
     "name": "stdout",
     "output_type": "stream",
     "text": [
      "Ths s n xmpl strng.\n"
     ]
    }
   ],
   "source": [
    "#10. Create a Python program that uses `filter()` to remove all the vowels from a given string.\n",
    "\n",
    "def remove_vowels(char):\n",
    "  vowels = 'aeiouAEIOU'\n",
    "  return char not in vowels\n",
    "\n",
    "string = \"This is an example string.\"\n",
    "no_vowels = ''.join(filter(remove_vowels, string))\n",
    "\n",
    "print(no_vowels) "
   ]
  },
  {
   "cell_type": "code",
   "execution_count": 16,
   "id": "bad68e24",
   "metadata": {},
   "outputs": [
    {
     "name": "stdout",
     "output_type": "stream",
     "text": [
      "['ALICE', 'BOB', 'CHARLIE']\n"
     ]
    }
   ],
   "source": [
    "# Write a Python program using lambda and map.\n",
    "\n",
    "names = [\"Alice\", \"Bob\", \"Charlie\"]\n",
    "\n",
    "# Use lambda and map to convert names to uppercase\n",
    "upper_names = list(map(lambda name: name.upper(), names))\n",
    "\n",
    "# Print the uppercase names\n",
    "print(upper_names)  "
   ]
  },
  {
   "cell_type": "code",
   "execution_count": null,
   "id": "ce8dd346",
   "metadata": {},
   "outputs": [],
   "source": []
  },
  {
   "cell_type": "code",
   "execution_count": null,
   "id": "fef8cc23",
   "metadata": {},
   "outputs": [],
   "source": []
  }
 ],
 "metadata": {
  "kernelspec": {
   "display_name": "Python 3 (ipykernel)",
   "language": "python",
   "name": "python3"
  },
  "language_info": {
   "codemirror_mode": {
    "name": "ipython",
    "version": 3
   },
   "file_extension": ".py",
   "mimetype": "text/x-python",
   "name": "python",
   "nbconvert_exporter": "python",
   "pygments_lexer": "ipython3",
   "version": "3.12.3"
  }
 },
 "nbformat": 4,
 "nbformat_minor": 5
}
