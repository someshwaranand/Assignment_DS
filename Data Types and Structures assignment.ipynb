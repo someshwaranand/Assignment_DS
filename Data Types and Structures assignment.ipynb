{
 "cells": [
  {
   "cell_type": "markdown",
   "id": "ba01048a-3f97-46f0-9140-02e7d5c3c7c5",
   "metadata": {},
   "source": [
    "<h1>Data Types and Structures</h1>"
   ]
  },
  {
   "cell_type": "markdown",
   "id": "161c4275-91ec-40f3-9f12-86a2514a7bd8",
   "metadata": {},
   "source": [
    "<h2>Theoretical Questions</h2>"
   ]
  },
  {
   "cell_type": "markdown",
   "id": "5b4d061d",
   "metadata": {},
   "source": [
    "1. What are data structures, and why are they important?\n",
    "    - Data structures are specialized formats for organizing and storing data in computers.\n",
    "     They're not just about holding information; they're about how that data is arranged to make it efficient to access, modify, and use.\n",
    "<hr>\n",
    "\n",
    "2. Explain the difference between mutable and immutable data types with examples.\n",
    "\n",
    "<hr>\n",
    "\n",
    "3. What are the main differences between lists and tuples in Python?\n",
    "    - Lists and tuples are both ordered collections of data in Python, but they have some key differences:\n",
    "\n",
    "    Mutability:\n",
    "\n",
    "      Lists: Mutable, meaning their contents can be changed after creation. You can add, remove, or modify elements within a list.\n",
    "    Tuples: Immutable, meaning they cannot be changed once created. Their size and elements remain fixed.\n",
    "    <br>\n",
    "    Syntax:\n",
    "\n",
    "    Lists: Enclosed in square brackets [].\n",
    "    Tuples: Enclosed in parentheses ().\n",
    "    <hr>\n",
    "\n",
    "\n",
    "\n",
    "4. Describe how dictionaries store data.\n",
    "    - Dictionaries stores data as key value pair.\n",
    "\n",
    "<hr>\n",
    "\n",
    "5. Why might you use a set instead of a list in Python?\n",
    "\n",
    "<hr>\n",
    "\n",
    "6. What is a string in Python, and how is it different from a list?\n",
    "    - In Python, a string is an immutable sequence of characters. This means it's a series of letters, numbers, symbols, or spaces enclosed within single ('...') or double (\"...\") quotes. Once a string is created, you cannot change its individual characters.\n",
    "\n",
    "    Lists are also sequences, but they are mutable, meaning their contents can be changed after creation. They are enclosed within square brackets [] and can hold elements of different data types (integers, floats, strings, other lists, etc.).\n",
    "\n",
    "<hr>\n",
    "\n",
    "7. How do tuples ensure data integrity in Python?\n",
    "<hr>\n",
    "\n",
    "8. What is a hash table, and how does it relate to dictionaries in Python?\n",
    "    - A hash table is a data structure that uses a hash function to map keys to specific locations in an array. This allows for very fast lookups, insertions, and deletions of key-value pairs. \n",
    "\n",
    "9. Can lists contain different data types in Python?\n",
    "    - yes\n",
    "<hr>\n",
    "\n",
    "10. Explain why strings are immutable in Python.\n",
    "\n",
    "<hr>\n",
    "\n",
    "11. What advantages do dictionaries offer over lists for certain tasks?\n",
    "\n",
    "<hr>\n",
    "\n",
    "12. Describe a scenario where using a tuple would be preferable over a list.\n",
    "\n",
    "<hr>\n",
    "\n",
    "13. How do sets handle duplicate values in Python?\n",
    "    - Sets in Python inherently handle duplicate values by automatically removing them. This is a fundamental characteristic of sets, ensuring that each element within a set is unique.   \n",
    "\n",
    "Key Points:\n",
    "\n",
    "Automatic Removal: When you create a set or add elements to an existing set, Python automatically checks for duplicates and removes them.   \n",
    "No Order: Sets are unordered collections, meaning the elements within a set do not have a specific sequence.   \n",
    "Immutability of Elements: While sets themselves are mutable (you can add or remove elements), the elements within a set must be immutable. This means you cannot use mutable objects like lists as elements of a set.  \n",
    "<hr>\n",
    "\n",
    "14. How does the “in” keyword work differently for lists and dictionaries?\n",
    "\n",
    "<hr>\n",
    "\n",
    "15. Can you modify the elements of a tuple? Explain why or why not?\n",
    "\n",
    "<hr>\n",
    "\n",
    "16. What is a nested dictionary, and give an example of its use case?\n",
    "    - A nested dictionary in Python is a dictionary where the values associated with certain keys are themselves dictionaries. This creates a hierarchical structure, allowing you to organize and represent complex data with multiple levels of relationships.\n",
    "Use Case: Representing Product Catalog\n",
    "\n",
    "Nested dictionaries are particularly useful for representing product catalogs, as they can capture the hierarchical structure of product categories and subcategories. This makes it easy to organize and search for products based on their type and attributes.\n",
    "<hr>\n",
    "\n",
    "17. Describe the time complexity of accessing elements in a dictionary?\n",
    "\n",
    "<hr>\n",
    "\n",
    "18. In what situations are lists preferred over dictionaries?\n",
    "    - Maintaining Order is Crucial: Lists preserve the order of elements, while dictionaries do not. If the order of elements is important for your application (e.g., for displaying items in a specific sequence), lists are the better choice.   \n",
    "Direct Indexing is Required: Lists are indexed by integers, allowing you to access elements directly using their position (e.g., my_list[0] for the first element). Dictionaries, on the other hand, are indexed by keys.   \n",
    "Allowing Duplicate Values: Lists can contain duplicate values, while dictionaries cannot have duplicate keys. \n",
    "<hr>\n",
    "\n",
    "19. Why are dictionaries considered unordered, and how does that affect data retrieval?\n",
    "    - Dictionaries in Python are considered unordered because they don't maintain any specific sequence or order for the items they store. This means that when you iterate over a dictionary or print its contents, the order in which the key-value pairs appear may not be the same as the order in which they were inserted.   \n",
    "\n",
    "This characteristic of dictionaries is primarily due to their underlying implementation, which is based on a data structure called a hash table.\n",
    "\n",
    " In a hash table, the keys are hashed to determine their storage location, and the order of insertion doesn't directly influence this location\n",
    "\n",
    "<hr>\n",
    "\n",
    "20. Explain the difference between a list and a dictionary in terms of data retrieval.\n",
    "\n"
   ]
  },
  {
   "cell_type": "markdown",
   "id": "5b1025be",
   "metadata": {},
   "source": []
  },
  {
   "cell_type": "markdown",
   "id": "9b9ec0e1-3057-4c41-afc0-ad79d8a628a6",
   "metadata": {},
   "source": [
    "<br><br>"
   ]
  },
  {
   "cell_type": "markdown",
   "id": "0ffc0824-1e88-457c-bf59-9372d17972c8",
   "metadata": {},
   "source": [
    "<h2>Practical Questions</h2>"
   ]
  },
  {
   "cell_type": "code",
   "execution_count": 9,
   "id": "354776b9",
   "metadata": {},
   "outputs": [
    {
     "name": "stdout",
     "output_type": "stream",
     "text": [
      "Write your name: Someshwar\n",
      "Someshwar\n"
     ]
    }
   ],
   "source": [
    "#1. Write a code to create a string with your name and print it.\n",
    "\n",
    "name = input(\"Write your name: \")\n",
    "print(name)"
   ]
  },
  {
   "cell_type": "code",
   "execution_count": 10,
   "id": "215f76f3",
   "metadata": {},
   "outputs": [
    {
     "data": {
      "text/plain": [
       "11"
      ]
     },
     "execution_count": 10,
     "metadata": {},
     "output_type": "execute_result"
    }
   ],
   "source": [
    "#2. Write a code to find the length of the string \"Hello World\"\n",
    "\n",
    "len(\"Hello World\")"
   ]
  },
  {
   "cell_type": "code",
   "execution_count": 11,
   "id": "afb0f29e",
   "metadata": {},
   "outputs": [
    {
     "data": {
      "text/plain": [
       "'Pyt'"
      ]
     },
     "execution_count": 11,
     "metadata": {},
     "output_type": "execute_result"
    }
   ],
   "source": [
    "#3. Write a code to slice the first 3 characters from the string \"Python Programming\"\n",
    "\n",
    "input_string = \"Python Programming\"\n",
    "input_string[:3]"
   ]
  },
  {
   "cell_type": "code",
   "execution_count": 12,
   "id": "6501516f",
   "metadata": {},
   "outputs": [
    {
     "data": {
      "text/plain": [
       "'HELLO'"
      ]
     },
     "execution_count": 12,
     "metadata": {},
     "output_type": "execute_result"
    }
   ],
   "source": [
    "#4. Write a code to convert the string \"hello\" to uppercase.\n",
    "\n",
    "\"hello\".upper()"
   ]
  },
  {
   "cell_type": "code",
   "execution_count": 13,
   "id": "29f23f92",
   "metadata": {},
   "outputs": [
    {
     "data": {
      "text/plain": [
       "'I like orange'"
      ]
     },
     "execution_count": 13,
     "metadata": {},
     "output_type": "execute_result"
    }
   ],
   "source": [
    "#5. Write a code to replace the word \"apple\" with \"orange\" in the string \"I like apple\".\n",
    "\n",
    "string = \"I like apple\"\n",
    "string.replace('apple', 'orange')"
   ]
  },
  {
   "cell_type": "code",
   "execution_count": 14,
   "id": "561e9437",
   "metadata": {},
   "outputs": [
    {
     "name": "stdout",
     "output_type": "stream",
     "text": [
      "1\n",
      "2\n",
      "3\n",
      "4\n",
      "5\n"
     ]
    }
   ],
   "source": [
    "#6. Write a code to create a list with numbers 1 to 5 and print it.\n",
    "\n",
    "my_list = list(range(1, 6))\n",
    "\n",
    "for item in my_list:\n",
    "    print(item)"
   ]
  },
  {
   "cell_type": "code",
   "execution_count": 15,
   "id": "f3f70b88",
   "metadata": {},
   "outputs": [
    {
     "data": {
      "text/plain": [
       "[1, 2, 3, 4, 10]"
      ]
     },
     "execution_count": 15,
     "metadata": {},
     "output_type": "execute_result"
    }
   ],
   "source": [
    "#7. Write a code to append the number 10 to the list [1, 2, 3, 4]\n",
    "\n",
    "my_list = [1, 2, 3, 4]\n",
    "my_list.append(10)\n",
    "my_list"
   ]
  },
  {
   "cell_type": "code",
   "execution_count": 16,
   "id": "3caff65d",
   "metadata": {},
   "outputs": [
    {
     "data": {
      "text/plain": [
       "[1, 2, 4, 5]"
      ]
     },
     "execution_count": 16,
     "metadata": {},
     "output_type": "execute_result"
    }
   ],
   "source": [
    "#8. Write a code to remove the number 3 from the list [1, 2, 3, 4, 5].\n",
    "\n",
    "my_list = [1, 2, 3, 4, 5]\n",
    "my_list.remove(3) \n",
    "\n",
    "my_list "
   ]
  },
  {
   "cell_type": "code",
   "execution_count": 17,
   "id": "de070ae0",
   "metadata": {},
   "outputs": [
    {
     "data": {
      "text/plain": [
       "'b'"
      ]
     },
     "execution_count": 17,
     "metadata": {},
     "output_type": "execute_result"
    }
   ],
   "source": [
    "#9. Write a code to access the second element in the list ['a', 'b', 'c', 'd'].\n",
    "\n",
    "my_list = ['a', 'b', 'c', 'd']\n",
    "my_list[1]"
   ]
  },
  {
   "cell_type": "code",
   "execution_count": 18,
   "id": "67d769ed",
   "metadata": {},
   "outputs": [
    {
     "data": {
      "text/plain": [
       "[50, 40, 30, 20, 10]"
      ]
     },
     "execution_count": 18,
     "metadata": {},
     "output_type": "execute_result"
    }
   ],
   "source": [
    "#10. Write a code to reverse the list [10, 20, 30, 40, 50].\n",
    "\n",
    "my_list = [10, 20, 30, 40, 50]\n",
    "list(reversed(my_list))"
   ]
  },
  {
   "cell_type": "code",
   "execution_count": 19,
   "id": "b545b0ba",
   "metadata": {},
   "outputs": [
    {
     "name": "stdout",
     "output_type": "stream",
     "text": [
      "(10, 20, 30)\n"
     ]
    }
   ],
   "source": [
    "#11. Write a code to create a tuple with the elements 10, 20, 30 and print it.\n",
    "\n",
    "my_tuple = (10, 20, 30) \n",
    "print(my_tuple)"
   ]
  },
  {
   "cell_type": "code",
   "execution_count": 20,
   "id": "abb1e38d",
   "metadata": {},
   "outputs": [
    {
     "name": "stdout",
     "output_type": "stream",
     "text": [
      "apple\n"
     ]
    }
   ],
   "source": [
    "#12. Write a code to access the first element of the tuple ('apple', 'banana', 'cherry').\n",
    "\n",
    "my_tuple = ('apple', 'banana', 'cherry')\n",
    "first_element = my_tuple[0]\n",
    "\n",
    "print(first_element)"
   ]
  },
  {
   "cell_type": "code",
   "execution_count": 21,
   "id": "34d856fe",
   "metadata": {},
   "outputs": [
    {
     "data": {
      "text/plain": [
       "3"
      ]
     },
     "execution_count": 21,
     "metadata": {},
     "output_type": "execute_result"
    }
   ],
   "source": [
    "#13. Write a code to count how many times the number 2 appears in the tuple (1, 2, 3, 2, 4, 2).\n",
    "\n",
    "my_tuple = (1, 2, 3, 2, 4, 2)\n",
    "count_of_two = my_tuple.count(2)\n",
    "count_of_two"
   ]
  },
  {
   "cell_type": "code",
   "execution_count": 22,
   "id": "3ec33234",
   "metadata": {},
   "outputs": [
    {
     "data": {
      "text/plain": [
       "1"
      ]
     },
     "execution_count": 22,
     "metadata": {},
     "output_type": "execute_result"
    }
   ],
   "source": [
    "#14. Write a code to find the index of the element \"cat\" in the tuple ('dog', 'cat', 'rabbit').\n",
    "\n",
    "my_tuple = ('dog', 'cat', 'rabbit')\n",
    "\n",
    "index_of_cat = my_tuple.index('cat')\n",
    "index_of_cat"
   ]
  },
  {
   "cell_type": "code",
   "execution_count": 23,
   "id": "98714d22",
   "metadata": {},
   "outputs": [
    {
     "name": "stdout",
     "output_type": "stream",
     "text": [
      "'banana' is present in the tuple.\n"
     ]
    }
   ],
   "source": [
    "#15. Write a code to check if the element \"banana\" is in the tuple ('apple', 'orange', 'banana').\n",
    "\n",
    "my_tuple = ('apple', 'orange', 'banana')\n",
    "\n",
    "if 'banana' in my_tuple:\n",
    "    print(\"'banana' is present in the tuple.\")"
   ]
  },
  {
   "cell_type": "code",
   "execution_count": 24,
   "id": "5f9508af",
   "metadata": {},
   "outputs": [
    {
     "name": "stdout",
     "output_type": "stream",
     "text": [
      "{1, 2, 3, 4, 5}\n"
     ]
    }
   ],
   "source": [
    "#16. Write a code to create a set with the elements 1, 2, 3, 4, 5 and print it.\n",
    "\n",
    "my_set = {1, 2, 3, 4, 5}\n",
    "print(my_set)"
   ]
  },
  {
   "cell_type": "code",
   "execution_count": 25,
   "id": "ff3536a1",
   "metadata": {},
   "outputs": [
    {
     "data": {
      "text/plain": [
       "{1, 2, 3, 4, 6}"
      ]
     },
     "execution_count": 25,
     "metadata": {},
     "output_type": "execute_result"
    }
   ],
   "source": [
    "#17. Write a code to add the element 6 to the set {1, 2, 3, 4}.\n",
    "\n",
    "my_set = {1, 2, 3, 4}\n",
    "my_set.add(6)\n",
    "my_set"
   ]
  },
  {
   "cell_type": "code",
   "execution_count": 26,
   "id": "38aa12f2",
   "metadata": {},
   "outputs": [
    {
     "name": "stdout",
     "output_type": "stream",
     "text": [
      "(10, 20, 30)\n"
     ]
    }
   ],
   "source": [
    "#18. Write a code to create a tuple with the elements 10, 20, 30 and print it.\n",
    "\n",
    "my_tuple = (10, 20, 30)\n",
    "print(my_tuple)"
   ]
  },
  {
   "cell_type": "code",
   "execution_count": 27,
   "id": "998d32af",
   "metadata": {},
   "outputs": [
    {
     "data": {
      "text/plain": [
       "'apple'"
      ]
     },
     "execution_count": 27,
     "metadata": {},
     "output_type": "execute_result"
    }
   ],
   "source": [
    "#19. Write a code to access the first element of the tuple ('apple', 'banana', 'cherry').\n",
    "\n",
    "my_tuple = ('apple', 'banana', 'cherry')\n",
    "first_element = my_tuple[0]\n",
    "first_element"
   ]
  },
  {
   "cell_type": "code",
   "execution_count": 28,
   "id": "7f7006c4",
   "metadata": {},
   "outputs": [
    {
     "data": {
      "text/plain": [
       "3"
      ]
     },
     "execution_count": 28,
     "metadata": {},
     "output_type": "execute_result"
    }
   ],
   "source": [
    "#20. Write a code to count how many times the number 2 appears in the tuple (1, 2, 3, 2, 4, 2).\n",
    "\n",
    "my_tuple = (1, 2, 3, 2, 4, 2)\n",
    "count_of_two = my_tuple.count(2)\n",
    "count_of_two"
   ]
  },
  {
   "cell_type": "code",
   "execution_count": 29,
   "id": "17526cc5",
   "metadata": {},
   "outputs": [
    {
     "data": {
      "text/plain": [
       "1"
      ]
     },
     "execution_count": 29,
     "metadata": {},
     "output_type": "execute_result"
    }
   ],
   "source": [
    "#21. Write a code to find the index of the element \"cat\" in the tuple ('dog', 'cat', 'rabbit').\n",
    "\n",
    "my_tuple = ('dog', 'cat', 'rabbit')\n",
    "\n",
    "index_of_cat = my_tuple.index('cat')\n",
    "index_of_cat"
   ]
  },
  {
   "cell_type": "code",
   "execution_count": 30,
   "id": "5815c89e",
   "metadata": {},
   "outputs": [],
   "source": [
    "#22. Write a code to check if the element \"banana\" is in the tuple ('apple', 'orange', 'banana').\n",
    "\n",
    "y_tuple = ('apple', 'orange', 'banana')\n",
    "\n",
    "if 'banana' in my_tuple:\n",
    "    print(\"'banana' is present in the tuple.\")"
   ]
  },
  {
   "cell_type": "code",
   "execution_count": 31,
   "id": "04dce61b",
   "metadata": {},
   "outputs": [
    {
     "name": "stdout",
     "output_type": "stream",
     "text": [
      "{1, 2, 3, 4, 5}\n"
     ]
    }
   ],
   "source": [
    "#23. Write a code to create a set with the elements 1, 2, 3, 4, 5 and print it.\n",
    "\n",
    "my_set = {1, 2, 3, 4, 5}\n",
    "print(my_set)"
   ]
  },
  {
   "cell_type": "code",
   "execution_count": 32,
   "id": "5303b1fb",
   "metadata": {},
   "outputs": [
    {
     "data": {
      "text/plain": [
       "{1, 2, 3, 4, 6}"
      ]
     },
     "execution_count": 32,
     "metadata": {},
     "output_type": "execute_result"
    }
   ],
   "source": [
    "#24. Write a code to add the element 6 to the set {1, 2, 3, 4}.\n",
    "\n",
    "my_set = {1, 2, 3, 4}\n",
    "my_set.add(6)\n",
    "my_set"
   ]
  }
 ],
 "metadata": {
  "kernelspec": {
   "display_name": "Python 3 (ipykernel)",
   "language": "python",
   "name": "python3"
  },
  "language_info": {
   "codemirror_mode": {
    "name": "ipython",
    "version": 3
   },
   "file_extension": ".py",
   "mimetype": "text/x-python",
   "name": "python",
   "nbconvert_exporter": "python",
   "pygments_lexer": "ipython3",
   "version": "3.12.3"
  }
 },
 "nbformat": 4,
 "nbformat_minor": 5
}
